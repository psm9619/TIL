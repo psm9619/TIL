{
 "cells": [
  {
   "cell_type": "markdown",
   "metadata": {},
   "source": [
    "## Stacking Classifier\n",
    "- Base: KNN, Random Forest, Gaussian NB\n",
    "- Meta: Logistic Regression\n",
    "- data: Iris (3-folds validation)"
   ]
  },
  {
   "cell_type": "code",
   "execution_count": 4,
   "metadata": {},
   "outputs": [],
   "source": [
    "import numpy as np\n",
    "import warnings\n",
    "from mlxtend.classifier import StackingClassifier\n",
    "from sklearn import datasets, model_selection\n",
    "from sklearn.ensemble import RandomForestClassifier\n",
    "from sklearn.linear_model import LogisticRegression\n",
    "## Gaussian Naive Bayes: classification, 가우시안 분포 사용\n",
    "from sklearn.naive_bayes import GaussianNB \n",
    "from sklearn.neighbors import KNeighborsClassifier"
   ]
  },
  {
   "cell_type": "code",
   "execution_count": 5,
   "metadata": {},
   "outputs": [],
   "source": [
    "warnings.filterwarnings('ignore')"
   ]
  },
  {
   "cell_type": "code",
   "execution_count": 6,
   "metadata": {},
   "outputs": [],
   "source": [
    "iris = datasets.load_iris()\n",
    "X, Y = iris.data[:, 1:3], iris.target"
   ]
  },
  {
   "cell_type": "code",
   "execution_count": 21,
   "metadata": {},
   "outputs": [
    {
     "name": "stdout",
     "output_type": "stream",
     "text": [
      "['sepal length (cm)', 'sepal width (cm)', 'petal length (cm)', 'petal width (cm)']\n",
      "[[5.1 3.5 1.4 0.2]\n",
      " [4.9 3.  1.4 0.2]\n",
      " [4.7 3.2 1.3 0.2]\n",
      " [4.6 3.1 1.5 0.2]\n",
      " [5.  3.6 1.4 0.2]]\n"
     ]
    }
   ],
   "source": [
    "print(list(iris.feature_names))\n",
    "print(iris.data[0:5])"
   ]
  },
  {
   "cell_type": "code",
   "execution_count": 22,
   "metadata": {},
   "outputs": [
    {
     "name": "stdout",
     "output_type": "stream",
     "text": [
      "['setosa', 'versicolor', 'virginica']\n",
      "[0, 1, 2]\n"
     ]
    }
   ],
   "source": [
    "print(list(iris.target_names))\n",
    "print(list(np.unique(iris.target)))"
   ]
  },
  {
   "cell_type": "code",
   "execution_count": 8,
   "metadata": {},
   "outputs": [
    {
     "name": "stdout",
     "output_type": "stream",
     "text": [
      "(150, 2) (150,)\n"
     ]
    }
   ],
   "source": [
    "print(X.shape, Y.shape)"
   ]
  },
  {
   "cell_type": "code",
   "execution_count": 23,
   "metadata": {},
   "outputs": [],
   "source": [
    "## base learners\n",
    "clf1 = KNeighborsClassifier(n_neighbors = 1)\n",
    "clf2 = RandomForestClassifier(random_state = 1)\n",
    "clf3 = GaussianNB()\n",
    "\n",
    "## meta learner\n",
    "lr = LogisticRegression()\n",
    "\n",
    "## stacking \n",
    "sclf = StackingClassifier(classifiers = [clf1, clf2, clf3],\n",
    "                         use_probas = True,\n",
    "                         meta_classifier = lr)"
   ]
  },
  {
   "cell_type": "code",
   "execution_count": 25,
   "metadata": {},
   "outputs": [
    {
     "name": "stdout",
     "output_type": "stream",
     "text": [
      "KNN scores: 0.91 (+/- 0.01)\n",
      "RF scores: 0.93 (+/- 0.05)\n",
      "GNB scores: 0.92 (+/- 0.03)\n",
      "Stacking scores: 0.94 (+/- 0.03)\n"
     ]
    }
   ],
   "source": [
    "for clf, label in zip([clf1, clf2, clf3, sclf],\n",
    "                     ['KNN', 'RF', 'GNB', 'Stacking']):\n",
    "    scores = model_selection.cross_val_score(clf, X, Y,\n",
    "                                            cv = 3, scoring='f1_macro')\n",
    "    print('%s scores: %0.2f (+/- %0.2f)'\n",
    "         % (label, scores.mean(), scores.std()))"
   ]
  },
  {
   "cell_type": "markdown",
   "metadata": {},
   "source": [
    "가장 높은 score를 받은 모델은 Stacking Classifier로, 0.94+/- 0.03의 정확도를 보인다.\n",
    "\n",
    "<br>\n",
    "\n",
    "***\n",
    "\n",
    "#### Reference\n",
    "[Stacking Classifier](https://www.youtube.com/watch?v=sBrQnqwMpvA) by Bhavesh Bhatt"
   ]
  }
 ],
 "metadata": {
  "kernelspec": {
   "display_name": "Python 3",
   "language": "python",
   "name": "python3"
  },
  "language_info": {
   "codemirror_mode": {
    "name": "ipython",
    "version": 3
   },
   "file_extension": ".py",
   "mimetype": "text/x-python",
   "name": "python",
   "nbconvert_exporter": "python",
   "pygments_lexer": "ipython3",
   "version": "3.7.4"
  }
 },
 "nbformat": 4,
 "nbformat_minor": 2
}
