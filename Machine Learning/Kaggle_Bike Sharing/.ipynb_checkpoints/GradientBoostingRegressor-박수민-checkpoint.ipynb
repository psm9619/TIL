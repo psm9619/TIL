{
 "cells": [
  {
   "cell_type": "code",
   "execution_count": 54,
   "metadata": {},
   "outputs": [],
   "source": [
    "# 필요 라이브러리 호출\n",
    "\n",
    "import warnings\n",
    "warnings.filterwarnings('ignore')\n",
    "\n",
    "import numpy as np \n",
    "import pandas as pd \n",
    "import seaborn as sns \n",
    "import matplotlib.pyplot as plt\n",
    "import calendar \n",
    "from datetime import datetime\n",
    "\n",
    "import matplotlib as mpl\n",
    "import matplotlib.font_manager as fm\n",
    "mpl.rcParams['axes.unicode_minus'] = False\n",
    "plt.rcParams[\"font.family\"] = 'Malgun Gothic' \n",
    "plt.rcParams[\"font.size\"] = 10\n",
    "%matplotlib inline "
   ]
  },
  {
   "cell_type": "code",
   "execution_count": 253,
   "metadata": {},
   "outputs": [],
   "source": [
    "# read datasets\n",
    "train_raw = pd.read_csv(\"bike-sharing-demand/train.csv\", index_col = 0, sep=',')\n",
    "test_raw = pd.read_csv(\"bike-sharing-demand/test.csv\", index_col = 0, sep=',')\n",
    "submission = pd.read_csv(\"bike-sharing-demand/sampleSubmission.csv\")"
   ]
  },
  {
   "cell_type": "code",
   "execution_count": 170,
   "metadata": {},
   "outputs": [
    {
     "data": {
      "text/html": [
       "<div>\n",
       "<style scoped>\n",
       "    .dataframe tbody tr th:only-of-type {\n",
       "        vertical-align: middle;\n",
       "    }\n",
       "\n",
       "    .dataframe tbody tr th {\n",
       "        vertical-align: top;\n",
       "    }\n",
       "\n",
       "    .dataframe thead th {\n",
       "        text-align: right;\n",
       "    }\n",
       "</style>\n",
       "<table border=\"1\" class=\"dataframe\">\n",
       "  <thead>\n",
       "    <tr style=\"text-align: right;\">\n",
       "      <th></th>\n",
       "      <th>season</th>\n",
       "      <th>holiday</th>\n",
       "      <th>workingday</th>\n",
       "      <th>weather</th>\n",
       "      <th>temp</th>\n",
       "      <th>atemp</th>\n",
       "      <th>humidity</th>\n",
       "      <th>windspeed</th>\n",
       "      <th>casual</th>\n",
       "      <th>registered</th>\n",
       "      <th>count</th>\n",
       "    </tr>\n",
       "    <tr>\n",
       "      <th>datetime</th>\n",
       "      <th></th>\n",
       "      <th></th>\n",
       "      <th></th>\n",
       "      <th></th>\n",
       "      <th></th>\n",
       "      <th></th>\n",
       "      <th></th>\n",
       "      <th></th>\n",
       "      <th></th>\n",
       "      <th></th>\n",
       "      <th></th>\n",
       "    </tr>\n",
       "  </thead>\n",
       "  <tbody>\n",
       "    <tr>\n",
       "      <th>2011-01-01 00:00:00</th>\n",
       "      <td>1</td>\n",
       "      <td>0</td>\n",
       "      <td>0</td>\n",
       "      <td>1</td>\n",
       "      <td>9.84</td>\n",
       "      <td>14.395</td>\n",
       "      <td>81</td>\n",
       "      <td>0.0</td>\n",
       "      <td>3</td>\n",
       "      <td>13</td>\n",
       "      <td>16</td>\n",
       "    </tr>\n",
       "    <tr>\n",
       "      <th>2011-01-01 01:00:00</th>\n",
       "      <td>1</td>\n",
       "      <td>0</td>\n",
       "      <td>0</td>\n",
       "      <td>1</td>\n",
       "      <td>9.02</td>\n",
       "      <td>13.635</td>\n",
       "      <td>80</td>\n",
       "      <td>0.0</td>\n",
       "      <td>8</td>\n",
       "      <td>32</td>\n",
       "      <td>40</td>\n",
       "    </tr>\n",
       "  </tbody>\n",
       "</table>\n",
       "</div>"
      ],
      "text/plain": [
       "                     season  holiday  workingday  weather  temp   atemp  \\\n",
       "datetime                                                                  \n",
       "2011-01-01 00:00:00       1        0           0        1  9.84  14.395   \n",
       "2011-01-01 01:00:00       1        0           0        1  9.02  13.635   \n",
       "\n",
       "                     humidity  windspeed  casual  registered  count  \n",
       "datetime                                                             \n",
       "2011-01-01 00:00:00        81        0.0       3          13     16  \n",
       "2011-01-01 01:00:00        80        0.0       8          32     40  "
      ]
     },
     "execution_count": 170,
     "metadata": {},
     "output_type": "execute_result"
    }
   ],
   "source": [
    "# train 확인\n",
    "train_raw.head(2)"
   ]
  },
  {
   "cell_type": "code",
   "execution_count": 171,
   "metadata": {
    "scrolled": true
   },
   "outputs": [
    {
     "data": {
      "text/html": [
       "<div>\n",
       "<style scoped>\n",
       "    .dataframe tbody tr th:only-of-type {\n",
       "        vertical-align: middle;\n",
       "    }\n",
       "\n",
       "    .dataframe tbody tr th {\n",
       "        vertical-align: top;\n",
       "    }\n",
       "\n",
       "    .dataframe thead th {\n",
       "        text-align: right;\n",
       "    }\n",
       "</style>\n",
       "<table border=\"1\" class=\"dataframe\">\n",
       "  <thead>\n",
       "    <tr style=\"text-align: right;\">\n",
       "      <th></th>\n",
       "      <th>season</th>\n",
       "      <th>holiday</th>\n",
       "      <th>workingday</th>\n",
       "      <th>weather</th>\n",
       "      <th>temp</th>\n",
       "      <th>atemp</th>\n",
       "      <th>humidity</th>\n",
       "      <th>windspeed</th>\n",
       "    </tr>\n",
       "    <tr>\n",
       "      <th>datetime</th>\n",
       "      <th></th>\n",
       "      <th></th>\n",
       "      <th></th>\n",
       "      <th></th>\n",
       "      <th></th>\n",
       "      <th></th>\n",
       "      <th></th>\n",
       "      <th></th>\n",
       "    </tr>\n",
       "  </thead>\n",
       "  <tbody>\n",
       "    <tr>\n",
       "      <th>2011-01-20 00:00:00</th>\n",
       "      <td>1</td>\n",
       "      <td>0</td>\n",
       "      <td>1</td>\n",
       "      <td>1</td>\n",
       "      <td>10.66</td>\n",
       "      <td>11.365</td>\n",
       "      <td>56</td>\n",
       "      <td>26.0027</td>\n",
       "    </tr>\n",
       "    <tr>\n",
       "      <th>2011-01-20 01:00:00</th>\n",
       "      <td>1</td>\n",
       "      <td>0</td>\n",
       "      <td>1</td>\n",
       "      <td>1</td>\n",
       "      <td>10.66</td>\n",
       "      <td>13.635</td>\n",
       "      <td>56</td>\n",
       "      <td>0.0000</td>\n",
       "    </tr>\n",
       "  </tbody>\n",
       "</table>\n",
       "</div>"
      ],
      "text/plain": [
       "                     season  holiday  workingday  weather   temp   atemp  \\\n",
       "datetime                                                                   \n",
       "2011-01-20 00:00:00       1        0           1        1  10.66  11.365   \n",
       "2011-01-20 01:00:00       1        0           1        1  10.66  13.635   \n",
       "\n",
       "                     humidity  windspeed  \n",
       "datetime                                  \n",
       "2011-01-20 00:00:00        56    26.0027  \n",
       "2011-01-20 01:00:00        56     0.0000  "
      ]
     },
     "execution_count": 171,
     "metadata": {},
     "output_type": "execute_result"
    }
   ],
   "source": [
    "# test 확인\n",
    "test_raw.head(2)"
   ]
  },
  {
   "cell_type": "code",
   "execution_count": 172,
   "metadata": {},
   "outputs": [
    {
     "data": {
      "text/html": [
       "<div>\n",
       "<style scoped>\n",
       "    .dataframe tbody tr th:only-of-type {\n",
       "        vertical-align: middle;\n",
       "    }\n",
       "\n",
       "    .dataframe tbody tr th {\n",
       "        vertical-align: top;\n",
       "    }\n",
       "\n",
       "    .dataframe thead th {\n",
       "        text-align: right;\n",
       "    }\n",
       "</style>\n",
       "<table border=\"1\" class=\"dataframe\">\n",
       "  <thead>\n",
       "    <tr style=\"text-align: right;\">\n",
       "      <th></th>\n",
       "      <th>datetime</th>\n",
       "      <th>count</th>\n",
       "    </tr>\n",
       "  </thead>\n",
       "  <tbody>\n",
       "    <tr>\n",
       "      <th>0</th>\n",
       "      <td>2011-01-20 00:00:00</td>\n",
       "      <td>0</td>\n",
       "    </tr>\n",
       "    <tr>\n",
       "      <th>1</th>\n",
       "      <td>2011-01-20 01:00:00</td>\n",
       "      <td>0</td>\n",
       "    </tr>\n",
       "  </tbody>\n",
       "</table>\n",
       "</div>"
      ],
      "text/plain": [
       "              datetime  count\n",
       "0  2011-01-20 00:00:00      0\n",
       "1  2011-01-20 01:00:00      0"
      ]
     },
     "execution_count": 172,
     "metadata": {},
     "output_type": "execute_result"
    }
   ],
   "source": [
    "# submission 확인\n",
    "submission.head(2)"
   ]
  },
  {
   "cell_type": "markdown",
   "metadata": {},
   "source": [
    "## 데이터 파악 및 전처리\n",
    "- 파생변수\n",
    "- 상관관계\n",
    "- dummy 변수"
   ]
  },
  {
   "cell_type": "markdown",
   "metadata": {},
   "source": [
    "#### datetime 파생변수"
   ]
  },
  {
   "cell_type": "code",
   "execution_count": 173,
   "metadata": {},
   "outputs": [],
   "source": [
    "def dateTimeVar(df):\n",
    "    df1 = df.copy()\n",
    "    # trainset, testset의 인덱스를 datetime으로 변환\n",
    "    if not isinstance(df1.index[1], datetime):\n",
    "        df1.index = pd.to_datetime(df1.index)\n",
    "    \n",
    "    # datetime을 사용한 파생변수\n",
    "    # 연도, 월, 일, 요일, 시간\n",
    "    df1['Yr'] = df1.index.year\n",
    "    df1['Mth']= df1.index.month\n",
    "    df1['Date']=df1.index.day\n",
    "    df1['Day']=df1.index.weekday\n",
    "    df1['hour']=df1.index.hour\n",
    "    return df1"
   ]
  },
  {
   "cell_type": "code",
   "execution_count": 174,
   "metadata": {},
   "outputs": [],
   "source": [
    "# train, test 적용\n",
    "train = dateTimeVar(train_raw)\n",
    "test=dateTimeVar(test_raw)"
   ]
  },
  {
   "cell_type": "code",
   "execution_count": 175,
   "metadata": {},
   "outputs": [
    {
     "data": {
      "text/html": [
       "<div>\n",
       "<style scoped>\n",
       "    .dataframe tbody tr th:only-of-type {\n",
       "        vertical-align: middle;\n",
       "    }\n",
       "\n",
       "    .dataframe tbody tr th {\n",
       "        vertical-align: top;\n",
       "    }\n",
       "\n",
       "    .dataframe thead th {\n",
       "        text-align: right;\n",
       "    }\n",
       "</style>\n",
       "<table border=\"1\" class=\"dataframe\">\n",
       "  <thead>\n",
       "    <tr style=\"text-align: right;\">\n",
       "      <th></th>\n",
       "      <th>season</th>\n",
       "      <th>holiday</th>\n",
       "      <th>workingday</th>\n",
       "      <th>weather</th>\n",
       "      <th>temp</th>\n",
       "      <th>atemp</th>\n",
       "      <th>humidity</th>\n",
       "      <th>windspeed</th>\n",
       "      <th>casual</th>\n",
       "      <th>registered</th>\n",
       "      <th>count</th>\n",
       "      <th>Yr</th>\n",
       "      <th>Mth</th>\n",
       "      <th>Date</th>\n",
       "      <th>Day</th>\n",
       "      <th>hour</th>\n",
       "    </tr>\n",
       "    <tr>\n",
       "      <th>datetime</th>\n",
       "      <th></th>\n",
       "      <th></th>\n",
       "      <th></th>\n",
       "      <th></th>\n",
       "      <th></th>\n",
       "      <th></th>\n",
       "      <th></th>\n",
       "      <th></th>\n",
       "      <th></th>\n",
       "      <th></th>\n",
       "      <th></th>\n",
       "      <th></th>\n",
       "      <th></th>\n",
       "      <th></th>\n",
       "      <th></th>\n",
       "      <th></th>\n",
       "    </tr>\n",
       "  </thead>\n",
       "  <tbody>\n",
       "    <tr>\n",
       "      <th>2011-01-01</th>\n",
       "      <td>1</td>\n",
       "      <td>0</td>\n",
       "      <td>0</td>\n",
       "      <td>1</td>\n",
       "      <td>9.84</td>\n",
       "      <td>14.395</td>\n",
       "      <td>81</td>\n",
       "      <td>0.0</td>\n",
       "      <td>3</td>\n",
       "      <td>13</td>\n",
       "      <td>16</td>\n",
       "      <td>2011</td>\n",
       "      <td>1</td>\n",
       "      <td>1</td>\n",
       "      <td>5</td>\n",
       "      <td>0</td>\n",
       "    </tr>\n",
       "  </tbody>\n",
       "</table>\n",
       "</div>"
      ],
      "text/plain": [
       "            season  holiday  workingday  weather  temp   atemp  humidity  \\\n",
       "datetime                                                                   \n",
       "2011-01-01       1        0           0        1  9.84  14.395        81   \n",
       "\n",
       "            windspeed  casual  registered  count    Yr  Mth  Date  Day  hour  \n",
       "datetime                                                                      \n",
       "2011-01-01        0.0       3          13     16  2011    1     1    5     0  "
      ]
     },
     "execution_count": 175,
     "metadata": {},
     "output_type": "execute_result"
    }
   ],
   "source": [
    "train.head(1) # 확인"
   ]
  },
  {
   "cell_type": "code",
   "execution_count": 178,
   "metadata": {},
   "outputs": [
    {
     "data": {
      "text/plain": [
       "Index(['season', 'holiday', 'workingday', 'weather', 'temp', 'atemp',\n",
       "       'humidity', 'windspeed', 'Yr', 'Mth', 'Date', 'Day', 'hour'],\n",
       "      dtype='object')"
      ]
     },
     "execution_count": 178,
     "metadata": {},
     "output_type": "execute_result"
    }
   ],
   "source": [
    "test.columns # 확인"
   ]
  },
  {
   "cell_type": "code",
   "execution_count": 179,
   "metadata": {
    "scrolled": false
   },
   "outputs": [
    {
     "data": {
      "image/png": "[encoded data removed]",
      "text/plain": [
       "<Figure size 1440x1080 with 6 Axes>"
      ]
     },
     "metadata": {},
     "output_type": "display_data"
    }
   ],
   "source": [
    "_, ax = plt.subplots(3,2, figsize=(20,15)) \n",
    "\n",
    "# 2012에 높은 카운트\n",
    "a=sns.barplot(x='Yr',y='count',data=train.groupby('Yr')['count'].mean().reset_index(), ax=ax[0,0])\n",
    "a.set_title('연도별 카운트')\n",
    "\n",
    "# 1~5월 증가, 6월 peak, 7~9 높음, 10~12 감소\n",
    "b = sns.barplot(x='Mth',y='count',data=train.groupby('Mth')['count'].mean().reset_index(), ax=ax[0,1])\n",
    "b.set_title('월별 카운트')\n",
    "\n",
    "# 평균적으로 3,10,17 일 경 높아지는데 이는 1주일(7일)간격이기에, 3,10,17일을 포함한 규칙적인 휴일(또는 목, 금요일)이 다수 있었을 거라 예상\n",
    "c= sns.barplot(x='Date',y='count',data=train.groupby('Date')['count'].mean().reset_index(), ax=ax[1,0])\n",
    "c.set_title('일별 카운트')\n",
    "\n",
    "# 미약한 차이, 3,4 (목,금)요일이 높은 편\n",
    "d = sns.barplot(x='Day',y='count',data=train.groupby('Day')['count'].mean().reset_index(), ax=ax[1,1])\n",
    "d.set_title('요일별 카운트')\n",
    "\n",
    "# 오전 8시(출근), 오후 17-18시(퇴근) 최대\n",
    "e = sns.barplot(x='hour',y='count',data=train.groupby('hour')['count'].mean().reset_index(), ax=ax[2,0])\n",
    "e.set_title('시간별 카운트')\n",
    "\n",
    "plt.show()"
   ]
  },
  {
   "cell_type": "markdown",
   "metadata": {},
   "source": [
    "#### season, holiday, workingday, weather 변수"
   ]
  },
  {
   "cell_type": "code",
   "execution_count": 181,
   "metadata": {},
   "outputs": [],
   "source": [
    "# 주어진 데이터셋에서 season은 단순히 1~3, 4~6, 7~9, 10~12로 나누어져있따\n",
    "# 이를 12~2: 겨울 (1), 3~5: 봄(2), 6~8: 여름(3), 9~11: 가을(4)로 바꾸어준다\n",
    "train['season'] = train.Mth.apply(lambda x: 1 if x in [12,1,2] else \n",
    "                2 if x in [3,4,5] else 3 if x in [6,7,8]\n",
    "               else 4)\n",
    "test['season'] = test.Mth.apply(lambda x: 1 if x in [12,1,2] else \n",
    "                2 if x in [3,4,5] else 3 if x in [6,7,8]\n",
    "               else 4)"
   ]
  },
  {
   "cell_type": "code",
   "execution_count": 182,
   "metadata": {},
   "outputs": [
    {
     "data": {
      "image/png": "[encoded data removed]",
      "text/plain": [
       "<Figure size 1440x1080 with 4 Axes>"
      ]
     },
     "metadata": {},
     "output_type": "display_data"
    }
   ],
   "source": [
    "_, ax = plt.subplots(2,2, figsize=(20,15)) \n",
    "\n",
    "# 계절 3 (여름)에 가장 높음\n",
    "a=sns.barplot(x='season',y='count',data=train.groupby('season')['count'].mean().reset_index(), ax=ax[0,0])\n",
    "a.set_title('계절별 카운트')\n",
    "\n",
    "# 큰 차이없으나 휴일이 아닐 때 좀 더 높은 편\n",
    "# 자전거를 여가용보다 출퇴근용 등으로 사용하는 빈도가 조금 더 높은 듯\n",
    "b = sns.barplot(x='holiday',y='count',data=train.groupby('holiday')['count'].mean().reset_index(), ax=ax[0,1])\n",
    "b.set_title('휴일여부별 카운트')\n",
    "\n",
    "# 위의 결과와 반대 (작업일일 때 조금 더 높다)\n",
    "# holiday나 workingday 중 한 가지만 사용해도 될듯\n",
    "c= sns.barplot(x='workingday',y='count',data=train.groupby('workingday')['count'].mean().reset_index(), ax=ax[1,0])\n",
    "c.set_title('작업일여부별 카운트')\n",
    "\n",
    "# weather: 1(맑음), 2(약간 구름), 3(약한 비), 4(폭우+우박+비폭풍+안개, 눈+안개 등)\n",
    "# 1일 때 가장 높고 의외지만 4가 아닌 3에서 가장 낮음... 4일 때 예상외로 자전거를 많이 사용??\n",
    "d = sns.barplot(x='weather',y='count',data=train.groupby('weather')['count'].mean().reset_index(), ax=ax[1,1])\n",
    "d.set_title('날씨별 카운트')\n",
    "\n",
    "plt.show()"
   ]
  },
  {
   "cell_type": "markdown",
   "metadata": {},
   "source": [
    "#### heatmap 상관관계파악"
   ]
  },
  {
   "cell_type": "code",
   "execution_count": 183,
   "metadata": {},
   "outputs": [
    {
     "data": {
      "text/plain": [
       "<matplotlib.axes._subplots.AxesSubplot at 0x22b45400>"
      ]
     },
     "execution_count": 183,
     "metadata": {},
     "output_type": "execute_result"
    },
    {
     "data": {
      "image/png": "[encoded data removed]",
      "text/plain": [
       "<Figure size 1440x720 with 2 Axes>"
      ]
     },
     "metadata": {},
     "output_type": "display_data"
    }
   ],
   "source": [
    "sns.set(font_scale=1.4)\n",
    "sns.set_style(\"white\")\n",
    "\n",
    "corrMatt = train.corr()\n",
    "\n",
    "mask = np.array(corrMatt)\n",
    "mask[np.tril_indices_from(mask)] = False\n",
    "\n",
    "fig,ax= plt.subplots()\n",
    "fig.set_size_inches(20,10)\n",
    "\n",
    "# count를 중점으로 볼 때, registered&casual은 당연히 높고 실제로 유의한 상관관계를 보이는 변수는\n",
    "# hour, temp, atemp, Mth, Season, Yr 정도로 파악된다\n",
    "sns.heatmap(corrMatt, mask=mask, vmax=1, vmin=0, square=True, \n",
    "            annot=True, cmap = 'Blues', annot_kws={\"size\": 10})"
   ]
  },
  {
   "cell_type": "markdown",
   "metadata": {},
   "source": [
    "#### dummy 변수화(카테고리형 데이터, train, test 둘 다 진행)\n",
    "\n",
    "**기본적으로 카테고리화할만큼 각 경우마다 차이가 충분히 보이는 경우에 dummy화 진행 (Day 등은 예상외로 차이가 크지 않아 우선 진행하지 않았다. 만일 후에 feature importance에서 충분히 중요하게 판명되면 재적용한다.)**\n",
    "\n",
    "- Yr (2011, 2012)\n",
    "- Mth (1~12)\n",
    "- hour (0~23)\n",
    "- season (1:겨울 ~ 4:가을)\n",
    "- holiday 여부 (workingday drop)\n",
    "- weather (1:맑음 ~ 4:아주 많은 비 등)"
   ]
  },
  {
   "cell_type": "code",
   "execution_count": 184,
   "metadata": {
    "scrolled": true
   },
   "outputs": [
    {
     "name": "stdout",
     "output_type": "stream",
     "text": [
      "Index(['season', 'holiday', 'workingday', 'weather', 'temp', 'atemp',\n",
      "       'humidity', 'windspeed', 'casual', 'registered', 'count', 'Yr', 'Mth',\n",
      "       'Date', 'Day', 'hour'],\n",
      "      dtype='object') \n",
      " Index(['season', 'holiday', 'workingday', 'weather', 'temp', 'atemp',\n",
      "       'humidity', 'windspeed', 'Yr', 'Mth', 'Date', 'Day', 'hour'],\n",
      "      dtype='object')\n"
     ]
    }
   ],
   "source": [
    "# 칼럼명 및 dummy변수화 할 데이터 확인\n",
    "print(train.columns, '\\n', test.columns)"
   ]
  },
  {
   "cell_type": "code",
   "execution_count": 216,
   "metadata": {},
   "outputs": [],
   "source": [
    "# dummy list 생성\n",
    "dum_lst = ['season', 'holiday', 'weather', 'Yr','Mth', 'hour']"
   ]
  },
  {
   "cell_type": "code",
   "execution_count": 222,
   "metadata": {},
   "outputs": [],
   "source": [
    "def dummies(df, dum_lst):\n",
    "    df1 = df.copy()\n",
    "    # dum_lst에 들어있는 각각의 변수마다 \n",
    "    # tmp = get_dummies, 해당 original 변수는 drop\n",
    "    # tmp와 변수가 drop된 df를 join 후 리턴\n",
    "    for v in dum_lst:\n",
    "        tmp = pd.get_dummies(df1[v], prefix=v)\n",
    "        df1 = df1.drop(columns=v).join(tmp)\n",
    "    return df1"
   ]
  },
  {
   "cell_type": "code",
   "execution_count": 225,
   "metadata": {},
   "outputs": [],
   "source": [
    "# train, test 각각 dummy변수 진행\n",
    "train_2 = dummies(train, dum_lst)\n",
    "test_2 = dummies(test, dum_lst)"
   ]
  },
  {
   "cell_type": "markdown",
   "metadata": {},
   "source": [
    "#### 사용하지 않을 칼럼 drop\n",
    "- workingday\n",
    "- registered, casual (test에 들어있지 않아 실제 예측에 사용할 수 없으며 어차피 최종 count만 필요하므로 제외) "
   ]
  },
  {
   "cell_type": "code",
   "execution_count": 227,
   "metadata": {},
   "outputs": [
    {
     "name": "stdout",
     "output_type": "stream",
     "text": [
      "Index(['workingday', 'temp', 'atemp', 'humidity', 'windspeed', 'casual',\n",
      "       'registered', 'count', 'Date', 'Day', 'season_1', 'season_2',\n",
      "       'season_3', 'season_4', 'holiday_0', 'holiday_1', 'weather_1',\n",
      "       'weather_2', 'weather_3', 'weather_4', 'Yr_2011', 'Yr_2012', 'Mth_1',\n",
      "       'Mth_2', 'Mth_3', 'Mth_4', 'Mth_5', 'Mth_6', 'Mth_7', 'Mth_8', 'Mth_9',\n",
      "       'Mth_10', 'Mth_11', 'Mth_12', 'hour_0', 'hour_1', 'hour_2', 'hour_3',\n",
      "       'hour_4', 'hour_5', 'hour_6', 'hour_7', 'hour_8', 'hour_9', 'hour_10',\n",
      "       'hour_11', 'hour_12', 'hour_13', 'hour_14', 'hour_15', 'hour_16',\n",
      "       'hour_17', 'hour_18', 'hour_19', 'hour_20', 'hour_21', 'hour_22',\n",
      "       'hour_23'],\n",
      "      dtype='object') \n",
      " Index(['workingday', 'temp', 'atemp', 'humidity', 'windspeed', 'Date', 'Day',\n",
      "       'season_1', 'season_2', 'season_3', 'season_4', 'holiday_0',\n",
      "       'holiday_1', 'weather_1', 'weather_2', 'weather_3', 'weather_4',\n",
      "       'Yr_2011', 'Yr_2012', 'Mth_1', 'Mth_2', 'Mth_3', 'Mth_4', 'Mth_5',\n",
      "       'Mth_6', 'Mth_7', 'Mth_8', 'Mth_9', 'Mth_10', 'Mth_11', 'Mth_12',\n",
      "       'hour_0', 'hour_1', 'hour_2', 'hour_3', 'hour_4', 'hour_5', 'hour_6',\n",
      "       'hour_7', 'hour_8', 'hour_9', 'hour_10', 'hour_11', 'hour_12',\n",
      "       'hour_13', 'hour_14', 'hour_15', 'hour_16', 'hour_17', 'hour_18',\n",
      "       'hour_19', 'hour_20', 'hour_21', 'hour_22', 'hour_23'],\n",
      "      dtype='object')\n"
     ]
    }
   ],
   "source": [
    "# 칼럼들 체크\n",
    "print(train_2.columns, '\\n', test_2.columns)"
   ]
  },
  {
   "cell_type": "code",
   "execution_count": 231,
   "metadata": {},
   "outputs": [],
   "source": [
    "train_2 = train_2.drop(columns=['workingday','registered','casual'])\n",
    "test_2 = test_2.drop(columns='workingday')"
   ]
  },
  {
   "cell_type": "code",
   "execution_count": 234,
   "metadata": {
    "collapsed": true
   },
   "outputs": [
    {
     "name": "stdout",
     "output_type": "stream",
     "text": [
      "Index(['temp', 'atemp', 'humidity', 'windspeed', 'count', 'Date', 'Day',\n",
      "       'season_1', 'season_2', 'season_3', 'season_4', 'holiday_0',\n",
      "       'holiday_1', 'weather_1', 'weather_2', 'weather_3', 'weather_4',\n",
      "       'Yr_2011', 'Yr_2012', 'Mth_1', 'Mth_2', 'Mth_3', 'Mth_4', 'Mth_5',\n",
      "       'Mth_6', 'Mth_7', 'Mth_8', 'Mth_9', 'Mth_10', 'Mth_11', 'Mth_12',\n",
      "       'hour_0', 'hour_1', 'hour_2', 'hour_3', 'hour_4', 'hour_5', 'hour_6',\n",
      "       'hour_7', 'hour_8', 'hour_9', 'hour_10', 'hour_11', 'hour_12',\n",
      "       'hour_13', 'hour_14', 'hour_15', 'hour_16', 'hour_17', 'hour_18',\n",
      "       'hour_19', 'hour_20', 'hour_21', 'hour_22', 'hour_23'],\n",
      "      dtype='object') \n",
      " Index(['temp', 'atemp', 'humidity', 'windspeed', 'Date', 'Day', 'season_1',\n",
      "       'season_2', 'season_3', 'season_4', 'holiday_0', 'holiday_1',\n",
      "       'weather_1', 'weather_2', 'weather_3', 'weather_4', 'Yr_2011',\n",
      "       'Yr_2012', 'Mth_1', 'Mth_2', 'Mth_3', 'Mth_4', 'Mth_5', 'Mth_6',\n",
      "       'Mth_7', 'Mth_8', 'Mth_9', 'Mth_10', 'Mth_11', 'Mth_12', 'hour_0',\n",
      "       'hour_1', 'hour_2', 'hour_3', 'hour_4', 'hour_5', 'hour_6', 'hour_7',\n",
      "       'hour_8', 'hour_9', 'hour_10', 'hour_11', 'hour_12', 'hour_13',\n",
      "       'hour_14', 'hour_15', 'hour_16', 'hour_17', 'hour_18', 'hour_19',\n",
      "       'hour_20', 'hour_21', 'hour_22', 'hour_23'],\n",
      "      dtype='object')\n",
      "55 54\n"
     ]
    }
   ],
   "source": [
    "# 칼럼들 체크\n",
    "print(train_2.columns, '\\n', test_2.columns)\n",
    "print(len(train_2.columns), len(test_2.columns))  # 이제 count 하나만 차이가 난다"
   ]
  },
  {
   "cell_type": "markdown",
   "metadata": {},
   "source": [
    "## 모델링\n",
    "#### 기준 \n",
    "- linear regresion\n",
    "\n",
    "#### 오차 계산\n",
    "- RMSLE\n",
    "\n",
    "#### 스코어 계산 데이터\n",
    "- validation set\n",
    "\n",
    "#### 회귀 모델 사용\n",
    "- Gradient Boosting Regressor\n",
    "- Random Forest Regressor\n",
    "- GridSearchCV"
   ]
  },
  {
   "cell_type": "code",
   "execution_count": 329,
   "metadata": {},
   "outputs": [],
   "source": [
    "# import libraries\n",
    "from sklearn.linear_model import LinearRegression\n",
    "from sklearn.ensemble import RandomForestRegressor\n",
    "from sklearn.model_selection import GridSearchCV\n",
    "from sklearn.ensemble import GradientBoostingRegressor"
   ]
  },
  {
   "cell_type": "markdown",
   "metadata": {},
   "source": [
    "#### RMSLE"
   ]
  },
  {
   "cell_type": "code",
   "execution_count": 312,
   "metadata": {},
   "outputs": [],
   "source": [
    "# y is predict value y_ is actual value\n",
    "def rmsle(y, y_,convertExp=True):\n",
    "    if convertExp:\n",
    "        y = np.exp(y), \n",
    "        y_ = np.exp(y_)\n",
    "    log1 = np.nan_to_num(np.array([np.log(v + 1) for v in y]))\n",
    "    log2 = np.nan_to_num(np.array([np.log(v + 1) for v in y_]))\n",
    "    calc = (log1 - log2) ** 2\n",
    "    return np.sqrt(np.mean(calc))"
   ]
  },
  {
   "cell_type": "markdown",
   "metadata": {},
   "source": [
    "#### Dataset 분할, Train, Valid, Test 생성"
   ]
  },
  {
   "cell_type": "code",
   "execution_count": 274,
   "metadata": {},
   "outputs": [
    {
     "data": {
      "text/plain": [
       "10886"
      ]
     },
     "execution_count": 274,
     "metadata": {},
     "output_type": "execute_result"
    }
   ],
   "source": [
    "# full length of trainset\n",
    "train_2.shape[0]"
   ]
  },
  {
   "cell_type": "code",
   "execution_count": 275,
   "metadata": {
    "scrolled": true
   },
   "outputs": [
    {
     "data": {
      "text/plain": [
       "8708.800000000001"
      ]
     },
     "execution_count": 275,
     "metadata": {},
     "output_type": "execute_result"
    }
   ],
   "source": [
    "# 80% of train data\n",
    "train_2.shape[0]*0.80"
   ]
  },
  {
   "cell_type": "code",
   "execution_count": 279,
   "metadata": {},
   "outputs": [
    {
     "name": "stdout",
     "output_type": "stream",
     "text": [
      "(8708, 54) (8708,) (2178, 54) (2178,) (6493, 54)\n"
     ]
    }
   ],
   "source": [
    "# X_train, Y_train, X_test 생성\n",
    "# 이 때 validation을 위한 셋을 따로 설정하여 \n",
    "# fit(train) 후 predict(valid)로 score 계산, 괜찮은 경우 predict(test)로 진행\n",
    "X_train = train_2[0:8708].drop(columns='count')  # 80%로 train진행\n",
    "Y_train= train_2[0:8708]['count']\n",
    "\n",
    "X_valid = train_2[8708:10886].drop(columns='count')\n",
    "Y_valid= train_2[8708:10886]['count']\n",
    "\n",
    "X_test = test_2\n",
    "# 데이터셋 shape 확인\n",
    "print(X_train.shape, Y_train.shape, \n",
    "      X_valid.shape, Y_valid.shape,\n",
    "      X_test.shape)"
   ]
  },
  {
   "cell_type": "code",
   "execution_count": 295,
   "metadata": {
    "collapsed": true
   },
   "outputs": [
    {
     "data": {
      "text/plain": [
       "<matplotlib.axes._subplots.AxesSubplot at 0x30e29550>"
      ]
     },
     "execution_count": 295,
     "metadata": {},
     "output_type": "execute_result"
    },
    {
     "data": {
      "image/png": "[encoded data removed]",
      "text/plain": [
       "<Figure size 432x288 with 1 Axes>"
      ]
     },
     "metadata": {},
     "output_type": "display_data"
    }
   ],
   "source": [
    "# Y_train 즉 count의 대략적 범위를 살펴본다\n",
    "# 생각보다 차이가 큼 (~200 ~ 1000).\n",
    "# 너무 차이가 많이 날 경우 오차가 커지므로 log화 한다\n",
    "# 후에 값 비교시 다시 np.exp 진행\n",
    "Y_train.plot()"
   ]
  },
  {
   "cell_type": "code",
   "execution_count": 296,
   "metadata": {},
   "outputs": [],
   "source": [
    "Y_trainLog = np.log1p(Y_train)\n",
    "Y_validLog = np.log1p(Y_valid)"
   ]
  },
  {
   "cell_type": "markdown",
   "metadata": {},
   "source": [
    "#### 기준 모델 및 score 계산"
   ]
  },
  {
   "cell_type": "code",
   "execution_count": 297,
   "metadata": {
    "scrolled": true
   },
   "outputs": [
    {
     "data": {
      "text/html": [
       "<div>\n",
       "<style scoped>\n",
       "    .dataframe tbody tr th:only-of-type {\n",
       "        vertical-align: middle;\n",
       "    }\n",
       "\n",
       "    .dataframe tbody tr th {\n",
       "        vertical-align: top;\n",
       "    }\n",
       "\n",
       "    .dataframe thead th {\n",
       "        text-align: right;\n",
       "    }\n",
       "</style>\n",
       "<table border=\"1\" class=\"dataframe\">\n",
       "  <thead>\n",
       "    <tr style=\"text-align: right;\">\n",
       "      <th></th>\n",
       "      <th>pred</th>\n",
       "      <th>real</th>\n",
       "    </tr>\n",
       "  </thead>\n",
       "  <tbody>\n",
       "    <tr>\n",
       "      <th>0</th>\n",
       "      <td>35.782309</td>\n",
       "      <td>20.0</td>\n",
       "    </tr>\n",
       "    <tr>\n",
       "      <th>1</th>\n",
       "      <td>116.334507</td>\n",
       "      <td>20.0</td>\n",
       "    </tr>\n",
       "    <tr>\n",
       "      <th>2</th>\n",
       "      <td>312.064482</td>\n",
       "      <td>69.0</td>\n",
       "    </tr>\n",
       "    <tr>\n",
       "      <th>3</th>\n",
       "      <td>611.384286</td>\n",
       "      <td>109.0</td>\n",
       "    </tr>\n",
       "    <tr>\n",
       "      <th>4</th>\n",
       "      <td>479.485778</td>\n",
       "      <td>230.0</td>\n",
       "    </tr>\n",
       "    <tr>\n",
       "      <th>5</th>\n",
       "      <td>343.473969</td>\n",
       "      <td>365.0</td>\n",
       "    </tr>\n",
       "    <tr>\n",
       "      <th>6</th>\n",
       "      <td>393.740770</td>\n",
       "      <td>438.0</td>\n",
       "    </tr>\n",
       "    <tr>\n",
       "      <th>7</th>\n",
       "      <td>480.327899</td>\n",
       "      <td>492.0</td>\n",
       "    </tr>\n",
       "    <tr>\n",
       "      <th>8</th>\n",
       "      <td>488.309041</td>\n",
       "      <td>524.0</td>\n",
       "    </tr>\n",
       "    <tr>\n",
       "      <th>9</th>\n",
       "      <td>474.246821</td>\n",
       "      <td>527.0</td>\n",
       "    </tr>\n",
       "    <tr>\n",
       "      <th>10</th>\n",
       "      <td>472.080852</td>\n",
       "      <td>451.0</td>\n",
       "    </tr>\n",
       "    <tr>\n",
       "      <th>11</th>\n",
       "      <td>582.355269</td>\n",
       "      <td>422.0</td>\n",
       "    </tr>\n",
       "    <tr>\n",
       "      <th>12</th>\n",
       "      <td>888.446549</td>\n",
       "      <td>383.0</td>\n",
       "    </tr>\n",
       "    <tr>\n",
       "      <th>13</th>\n",
       "      <td>400.484787</td>\n",
       "      <td>230.0</td>\n",
       "    </tr>\n",
       "    <tr>\n",
       "      <th>14</th>\n",
       "      <td>500.102578</td>\n",
       "      <td>186.0</td>\n",
       "    </tr>\n",
       "    <tr>\n",
       "      <th>15</th>\n",
       "      <td>376.616955</td>\n",
       "      <td>194.0</td>\n",
       "    </tr>\n",
       "    <tr>\n",
       "      <th>16</th>\n",
       "      <td>310.198723</td>\n",
       "      <td>209.0</td>\n",
       "    </tr>\n",
       "    <tr>\n",
       "      <th>17</th>\n",
       "      <td>244.635933</td>\n",
       "      <td>158.0</td>\n",
       "    </tr>\n",
       "    <tr>\n",
       "      <th>18</th>\n",
       "      <td>153.409616</td>\n",
       "      <td>88.0</td>\n",
       "    </tr>\n",
       "    <tr>\n",
       "      <th>19</th>\n",
       "      <td>75.418989</td>\n",
       "      <td>34.0</td>\n",
       "    </tr>\n",
       "    <tr>\n",
       "      <th>20</th>\n",
       "      <td>42.951467</td>\n",
       "      <td>12.0</td>\n",
       "    </tr>\n",
       "    <tr>\n",
       "      <th>21</th>\n",
       "      <td>25.457611</td>\n",
       "      <td>6.0</td>\n",
       "    </tr>\n",
       "    <tr>\n",
       "      <th>22</th>\n",
       "      <td>9.276442</td>\n",
       "      <td>6.0</td>\n",
       "    </tr>\n",
       "    <tr>\n",
       "      <th>23</th>\n",
       "      <td>11.553706</td>\n",
       "      <td>12.0</td>\n",
       "    </tr>\n",
       "    <tr>\n",
       "      <th>24</th>\n",
       "      <td>29.228297</td>\n",
       "      <td>26.0</td>\n",
       "    </tr>\n",
       "    <tr>\n",
       "      <th>25</th>\n",
       "      <td>91.378905</td>\n",
       "      <td>142.0</td>\n",
       "    </tr>\n",
       "    <tr>\n",
       "      <th>26</th>\n",
       "      <td>150.249701</td>\n",
       "      <td>408.0</td>\n",
       "    </tr>\n",
       "    <tr>\n",
       "      <th>27</th>\n",
       "      <td>469.630879</td>\n",
       "      <td>606.0</td>\n",
       "    </tr>\n",
       "    <tr>\n",
       "      <th>28</th>\n",
       "      <td>198.942239</td>\n",
       "      <td>277.0</td>\n",
       "    </tr>\n",
       "    <tr>\n",
       "      <th>29</th>\n",
       "      <td>264.647740</td>\n",
       "      <td>214.0</td>\n",
       "    </tr>\n",
       "    <tr>\n",
       "      <th>...</th>\n",
       "      <td>...</td>\n",
       "      <td>...</td>\n",
       "    </tr>\n",
       "    <tr>\n",
       "      <th>2148</th>\n",
       "      <td>531.139349</td>\n",
       "      <td>526.0</td>\n",
       "    </tr>\n",
       "    <tr>\n",
       "      <th>2149</th>\n",
       "      <td>391.147878</td>\n",
       "      <td>354.0</td>\n",
       "    </tr>\n",
       "    <tr>\n",
       "      <th>2150</th>\n",
       "      <td>262.151859</td>\n",
       "      <td>269.0</td>\n",
       "    </tr>\n",
       "    <tr>\n",
       "      <th>2151</th>\n",
       "      <td>210.490712</td>\n",
       "      <td>169.0</td>\n",
       "    </tr>\n",
       "    <tr>\n",
       "      <th>2152</th>\n",
       "      <td>169.281207</td>\n",
       "      <td>133.0</td>\n",
       "    </tr>\n",
       "    <tr>\n",
       "      <th>2153</th>\n",
       "      <td>114.658554</td>\n",
       "      <td>82.0</td>\n",
       "    </tr>\n",
       "    <tr>\n",
       "      <th>2154</th>\n",
       "      <td>62.498784</td>\n",
       "      <td>42.0</td>\n",
       "    </tr>\n",
       "    <tr>\n",
       "      <th>2155</th>\n",
       "      <td>33.511942</td>\n",
       "      <td>16.0</td>\n",
       "    </tr>\n",
       "    <tr>\n",
       "      <th>2156</th>\n",
       "      <td>20.669119</td>\n",
       "      <td>4.0</td>\n",
       "    </tr>\n",
       "    <tr>\n",
       "      <th>2157</th>\n",
       "      <td>11.503395</td>\n",
       "      <td>6.0</td>\n",
       "    </tr>\n",
       "    <tr>\n",
       "      <th>2158</th>\n",
       "      <td>8.131901</td>\n",
       "      <td>8.0</td>\n",
       "    </tr>\n",
       "    <tr>\n",
       "      <th>2159</th>\n",
       "      <td>22.856995</td>\n",
       "      <td>32.0</td>\n",
       "    </tr>\n",
       "    <tr>\n",
       "      <th>2160</th>\n",
       "      <td>71.965302</td>\n",
       "      <td>113.0</td>\n",
       "    </tr>\n",
       "    <tr>\n",
       "      <th>2161</th>\n",
       "      <td>190.301841</td>\n",
       "      <td>364.0</td>\n",
       "    </tr>\n",
       "    <tr>\n",
       "      <th>2162</th>\n",
       "      <td>344.250513</td>\n",
       "      <td>679.0</td>\n",
       "    </tr>\n",
       "    <tr>\n",
       "      <th>2163</th>\n",
       "      <td>266.914751</td>\n",
       "      <td>318.0</td>\n",
       "    </tr>\n",
       "    <tr>\n",
       "      <th>2164</th>\n",
       "      <td>208.346567</td>\n",
       "      <td>165.0</td>\n",
       "    </tr>\n",
       "    <tr>\n",
       "      <th>2165</th>\n",
       "      <td>263.113648</td>\n",
       "      <td>201.0</td>\n",
       "    </tr>\n",
       "    <tr>\n",
       "      <th>2166</th>\n",
       "      <td>314.627233</td>\n",
       "      <td>237.0</td>\n",
       "    </tr>\n",
       "    <tr>\n",
       "      <th>2167</th>\n",
       "      <td>322.216210</td>\n",
       "      <td>214.0</td>\n",
       "    </tr>\n",
       "    <tr>\n",
       "      <th>2168</th>\n",
       "      <td>297.034311</td>\n",
       "      <td>219.0</td>\n",
       "    </tr>\n",
       "    <tr>\n",
       "      <th>2169</th>\n",
       "      <td>308.367645</td>\n",
       "      <td>238.0</td>\n",
       "    </tr>\n",
       "    <tr>\n",
       "      <th>2170</th>\n",
       "      <td>394.221704</td>\n",
       "      <td>335.0</td>\n",
       "    </tr>\n",
       "    <tr>\n",
       "      <th>2171</th>\n",
       "      <td>589.237870</td>\n",
       "      <td>563.0</td>\n",
       "    </tr>\n",
       "    <tr>\n",
       "      <th>2172</th>\n",
       "      <td>538.664548</td>\n",
       "      <td>570.0</td>\n",
       "    </tr>\n",
       "    <tr>\n",
       "      <th>2173</th>\n",
       "      <td>398.540143</td>\n",
       "      <td>337.0</td>\n",
       "    </tr>\n",
       "    <tr>\n",
       "      <th>2174</th>\n",
       "      <td>274.334829</td>\n",
       "      <td>242.0</td>\n",
       "    </tr>\n",
       "    <tr>\n",
       "      <th>2175</th>\n",
       "      <td>200.677025</td>\n",
       "      <td>169.0</td>\n",
       "    </tr>\n",
       "    <tr>\n",
       "      <th>2176</th>\n",
       "      <td>171.394287</td>\n",
       "      <td>130.0</td>\n",
       "    </tr>\n",
       "    <tr>\n",
       "      <th>2177</th>\n",
       "      <td>109.995500</td>\n",
       "      <td>89.0</td>\n",
       "    </tr>\n",
       "  </tbody>\n",
       "</table>\n",
       "<p>2178 rows × 2 columns</p>\n",
       "</div>"
      ],
      "text/plain": [
       "            pred   real\n",
       "0      35.782309   20.0\n",
       "1     116.334507   20.0\n",
       "2     312.064482   69.0\n",
       "3     611.384286  109.0\n",
       "4     479.485778  230.0\n",
       "5     343.473969  365.0\n",
       "6     393.740770  438.0\n",
       "7     480.327899  492.0\n",
       "8     488.309041  524.0\n",
       "9     474.246821  527.0\n",
       "10    472.080852  451.0\n",
       "11    582.355269  422.0\n",
       "12    888.446549  383.0\n",
       "13    400.484787  230.0\n",
       "14    500.102578  186.0\n",
       "15    376.616955  194.0\n",
       "16    310.198723  209.0\n",
       "17    244.635933  158.0\n",
       "18    153.409616   88.0\n",
       "19     75.418989   34.0\n",
       "20     42.951467   12.0\n",
       "21     25.457611    6.0\n",
       "22      9.276442    6.0\n",
       "23     11.553706   12.0\n",
       "24     29.228297   26.0\n",
       "25     91.378905  142.0\n",
       "26    150.249701  408.0\n",
       "27    469.630879  606.0\n",
       "28    198.942239  277.0\n",
       "29    264.647740  214.0\n",
       "...          ...    ...\n",
       "2148  531.139349  526.0\n",
       "2149  391.147878  354.0\n",
       "2150  262.151859  269.0\n",
       "2151  210.490712  169.0\n",
       "2152  169.281207  133.0\n",
       "2153  114.658554   82.0\n",
       "2154   62.498784   42.0\n",
       "2155   33.511942   16.0\n",
       "2156   20.669119    4.0\n",
       "2157   11.503395    6.0\n",
       "2158    8.131901    8.0\n",
       "2159   22.856995   32.0\n",
       "2160   71.965302  113.0\n",
       "2161  190.301841  364.0\n",
       "2162  344.250513  679.0\n",
       "2163  266.914751  318.0\n",
       "2164  208.346567  165.0\n",
       "2165  263.113648  201.0\n",
       "2166  314.627233  237.0\n",
       "2167  322.216210  214.0\n",
       "2168  297.034311  219.0\n",
       "2169  308.367645  238.0\n",
       "2170  394.221704  335.0\n",
       "2171  589.237870  563.0\n",
       "2172  538.664548  570.0\n",
       "2173  398.540143  337.0\n",
       "2174  274.334829  242.0\n",
       "2175  200.677025  169.0\n",
       "2176  171.394287  130.0\n",
       "2177  109.995500   89.0\n",
       "\n",
       "[2178 rows x 2 columns]"
      ]
     },
     "execution_count": 297,
     "metadata": {},
     "output_type": "execute_result"
    }
   ],
   "source": [
    "# 넘어야 할 기준score를 위해 가장 단순한 linear regression 진행\n",
    "model_lr = LinearRegression()\n",
    "model_lr.fit(X_train, Y_trainLog)\n",
    "valid_P_lr = model_lr.predict(X_valid)\n",
    "\n",
    "# oh shit, 눈으로 봐도 어마무시한 차이,,,ㅋㅋㅋ\n",
    "pd.DataFrame(list(zip(np.exp(valid_P_lr), np.exp(Y_validLog))), columns=['pred', 'real'])"
   ]
  },
  {
   "cell_type": "code",
   "execution_count": 314,
   "metadata": {
    "scrolled": true
   },
   "outputs": [
    {
     "name": "stdout",
     "output_type": "stream",
     "text": [
      "RMSE score_Linear Reg:  0.5595713713962586\n"
     ]
    }
   ],
   "source": [
    "# 가장 단순한 linear regression 사용시 RMSE스코어\n",
    "print('RMSE score_Linear Reg: ', \n",
    "      rmsle(valid_P_lr, Y_validLog, True))"
   ]
  },
  {
   "cell_type": "markdown",
   "metadata": {},
   "source": [
    "#### Advanced Modeling\n",
    "- Gradient Boosting Regressor\n",
    "- GridSearch+GBR 하려고 했으나 너무 오래 걸려서 미룸..ㅠㅜㅠ"
   ]
  },
  {
   "cell_type": "code",
   "execution_count": 333,
   "metadata": {},
   "outputs": [],
   "source": [
    "# GBR model building\n",
    "model_gb = GradientBoostingRegressor(max_depth=5, n_estimators=1000)\n",
    "model_gb.fit(X_train, Y_trainLog)\n",
    "valid_P_gb=model_gb1.predict(X_valid)"
   ]
  },
  {
   "cell_type": "code",
   "execution_count": 334,
   "metadata": {
    "collapsed": true
   },
   "outputs": [
    {
     "data": {
      "text/html": [
       "<div>\n",
       "<style scoped>\n",
       "    .dataframe tbody tr th:only-of-type {\n",
       "        vertical-align: middle;\n",
       "    }\n",
       "\n",
       "    .dataframe tbody tr th {\n",
       "        vertical-align: top;\n",
       "    }\n",
       "\n",
       "    .dataframe thead th {\n",
       "        text-align: right;\n",
       "    }\n",
       "</style>\n",
       "<table border=\"1\" class=\"dataframe\">\n",
       "  <thead>\n",
       "    <tr style=\"text-align: right;\">\n",
       "      <th></th>\n",
       "      <th>pred</th>\n",
       "      <th>real</th>\n",
       "    </tr>\n",
       "  </thead>\n",
       "  <tbody>\n",
       "    <tr>\n",
       "      <th>0</th>\n",
       "      <td>14.960030</td>\n",
       "      <td>20.0</td>\n",
       "    </tr>\n",
       "    <tr>\n",
       "      <th>1</th>\n",
       "      <td>20.594299</td>\n",
       "      <td>20.0</td>\n",
       "    </tr>\n",
       "    <tr>\n",
       "      <th>2</th>\n",
       "      <td>56.849233</td>\n",
       "      <td>69.0</td>\n",
       "    </tr>\n",
       "    <tr>\n",
       "      <th>3</th>\n",
       "      <td>142.758415</td>\n",
       "      <td>109.0</td>\n",
       "    </tr>\n",
       "    <tr>\n",
       "      <th>4</th>\n",
       "      <td>290.620859</td>\n",
       "      <td>230.0</td>\n",
       "    </tr>\n",
       "    <tr>\n",
       "      <th>5</th>\n",
       "      <td>387.671670</td>\n",
       "      <td>365.0</td>\n",
       "    </tr>\n",
       "    <tr>\n",
       "      <th>6</th>\n",
       "      <td>428.860140</td>\n",
       "      <td>438.0</td>\n",
       "    </tr>\n",
       "    <tr>\n",
       "      <th>7</th>\n",
       "      <td>527.756548</td>\n",
       "      <td>492.0</td>\n",
       "    </tr>\n",
       "    <tr>\n",
       "      <th>8</th>\n",
       "      <td>489.081882</td>\n",
       "      <td>524.0</td>\n",
       "    </tr>\n",
       "    <tr>\n",
       "      <th>9</th>\n",
       "      <td>492.781593</td>\n",
       "      <td>527.0</td>\n",
       "    </tr>\n",
       "    <tr>\n",
       "      <th>10</th>\n",
       "      <td>421.971255</td>\n",
       "      <td>451.0</td>\n",
       "    </tr>\n",
       "    <tr>\n",
       "      <th>11</th>\n",
       "      <td>538.244685</td>\n",
       "      <td>422.0</td>\n",
       "    </tr>\n",
       "    <tr>\n",
       "      <th>12</th>\n",
       "      <td>516.610235</td>\n",
       "      <td>383.0</td>\n",
       "    </tr>\n",
       "    <tr>\n",
       "      <th>13</th>\n",
       "      <td>314.460102</td>\n",
       "      <td>230.0</td>\n",
       "    </tr>\n",
       "    <tr>\n",
       "      <th>14</th>\n",
       "      <td>363.217985</td>\n",
       "      <td>186.0</td>\n",
       "    </tr>\n",
       "    <tr>\n",
       "      <th>15</th>\n",
       "      <td>321.273493</td>\n",
       "      <td>194.0</td>\n",
       "    </tr>\n",
       "    <tr>\n",
       "      <th>16</th>\n",
       "      <td>216.370231</td>\n",
       "      <td>209.0</td>\n",
       "    </tr>\n",
       "    <tr>\n",
       "      <th>17</th>\n",
       "      <td>185.049783</td>\n",
       "      <td>158.0</td>\n",
       "    </tr>\n",
       "    <tr>\n",
       "      <th>18</th>\n",
       "      <td>77.165887</td>\n",
       "      <td>88.0</td>\n",
       "    </tr>\n",
       "    <tr>\n",
       "      <th>19</th>\n",
       "      <td>45.190782</td>\n",
       "      <td>34.0</td>\n",
       "    </tr>\n",
       "    <tr>\n",
       "      <th>20</th>\n",
       "      <td>20.208222</td>\n",
       "      <td>12.0</td>\n",
       "    </tr>\n",
       "    <tr>\n",
       "      <th>21</th>\n",
       "      <td>9.121735</td>\n",
       "      <td>6.0</td>\n",
       "    </tr>\n",
       "    <tr>\n",
       "      <th>22</th>\n",
       "      <td>5.318709</td>\n",
       "      <td>6.0</td>\n",
       "    </tr>\n",
       "    <tr>\n",
       "      <th>23</th>\n",
       "      <td>8.337126</td>\n",
       "      <td>12.0</td>\n",
       "    </tr>\n",
       "    <tr>\n",
       "      <th>24</th>\n",
       "      <td>33.614779</td>\n",
       "      <td>26.0</td>\n",
       "    </tr>\n",
       "    <tr>\n",
       "      <th>25</th>\n",
       "      <td>166.579692</td>\n",
       "      <td>142.0</td>\n",
       "    </tr>\n",
       "    <tr>\n",
       "      <th>26</th>\n",
       "      <td>274.000745</td>\n",
       "      <td>408.0</td>\n",
       "    </tr>\n",
       "    <tr>\n",
       "      <th>27</th>\n",
       "      <td>735.496100</td>\n",
       "      <td>606.0</td>\n",
       "    </tr>\n",
       "    <tr>\n",
       "      <th>28</th>\n",
       "      <td>228.100688</td>\n",
       "      <td>277.0</td>\n",
       "    </tr>\n",
       "    <tr>\n",
       "      <th>29</th>\n",
       "      <td>196.018030</td>\n",
       "      <td>214.0</td>\n",
       "    </tr>\n",
       "    <tr>\n",
       "      <th>...</th>\n",
       "      <td>...</td>\n",
       "      <td>...</td>\n",
       "    </tr>\n",
       "    <tr>\n",
       "      <th>2148</th>\n",
       "      <td>440.107086</td>\n",
       "      <td>526.0</td>\n",
       "    </tr>\n",
       "    <tr>\n",
       "      <th>2149</th>\n",
       "      <td>321.340156</td>\n",
       "      <td>354.0</td>\n",
       "    </tr>\n",
       "    <tr>\n",
       "      <th>2150</th>\n",
       "      <td>206.703456</td>\n",
       "      <td>269.0</td>\n",
       "    </tr>\n",
       "    <tr>\n",
       "      <th>2151</th>\n",
       "      <td>159.629145</td>\n",
       "      <td>169.0</td>\n",
       "    </tr>\n",
       "    <tr>\n",
       "      <th>2152</th>\n",
       "      <td>113.543537</td>\n",
       "      <td>133.0</td>\n",
       "    </tr>\n",
       "    <tr>\n",
       "      <th>2153</th>\n",
       "      <td>64.504737</td>\n",
       "      <td>82.0</td>\n",
       "    </tr>\n",
       "    <tr>\n",
       "      <th>2154</th>\n",
       "      <td>23.062881</td>\n",
       "      <td>42.0</td>\n",
       "    </tr>\n",
       "    <tr>\n",
       "      <th>2155</th>\n",
       "      <td>11.400735</td>\n",
       "      <td>16.0</td>\n",
       "    </tr>\n",
       "    <tr>\n",
       "      <th>2156</th>\n",
       "      <td>6.787127</td>\n",
       "      <td>4.0</td>\n",
       "    </tr>\n",
       "    <tr>\n",
       "      <th>2157</th>\n",
       "      <td>5.144885</td>\n",
       "      <td>6.0</td>\n",
       "    </tr>\n",
       "    <tr>\n",
       "      <th>2158</th>\n",
       "      <td>4.270658</td>\n",
       "      <td>8.0</td>\n",
       "    </tr>\n",
       "    <tr>\n",
       "      <th>2159</th>\n",
       "      <td>26.264262</td>\n",
       "      <td>32.0</td>\n",
       "    </tr>\n",
       "    <tr>\n",
       "      <th>2160</th>\n",
       "      <td>98.669391</td>\n",
       "      <td>113.0</td>\n",
       "    </tr>\n",
       "    <tr>\n",
       "      <th>2161</th>\n",
       "      <td>295.437363</td>\n",
       "      <td>364.0</td>\n",
       "    </tr>\n",
       "    <tr>\n",
       "      <th>2162</th>\n",
       "      <td>511.289738</td>\n",
       "      <td>679.0</td>\n",
       "    </tr>\n",
       "    <tr>\n",
       "      <th>2163</th>\n",
       "      <td>298.880419</td>\n",
       "      <td>318.0</td>\n",
       "    </tr>\n",
       "    <tr>\n",
       "      <th>2164</th>\n",
       "      <td>136.607784</td>\n",
       "      <td>165.0</td>\n",
       "    </tr>\n",
       "    <tr>\n",
       "      <th>2165</th>\n",
       "      <td>167.256721</td>\n",
       "      <td>201.0</td>\n",
       "    </tr>\n",
       "    <tr>\n",
       "      <th>2166</th>\n",
       "      <td>188.622298</td>\n",
       "      <td>237.0</td>\n",
       "    </tr>\n",
       "    <tr>\n",
       "      <th>2167</th>\n",
       "      <td>188.925383</td>\n",
       "      <td>214.0</td>\n",
       "    </tr>\n",
       "    <tr>\n",
       "      <th>2168</th>\n",
       "      <td>160.791660</td>\n",
       "      <td>219.0</td>\n",
       "    </tr>\n",
       "    <tr>\n",
       "      <th>2169</th>\n",
       "      <td>173.579584</td>\n",
       "      <td>238.0</td>\n",
       "    </tr>\n",
       "    <tr>\n",
       "      <th>2170</th>\n",
       "      <td>248.033268</td>\n",
       "      <td>335.0</td>\n",
       "    </tr>\n",
       "    <tr>\n",
       "      <th>2171</th>\n",
       "      <td>360.117653</td>\n",
       "      <td>563.0</td>\n",
       "    </tr>\n",
       "    <tr>\n",
       "      <th>2172</th>\n",
       "      <td>414.007873</td>\n",
       "      <td>570.0</td>\n",
       "    </tr>\n",
       "    <tr>\n",
       "      <th>2173</th>\n",
       "      <td>302.684231</td>\n",
       "      <td>337.0</td>\n",
       "    </tr>\n",
       "    <tr>\n",
       "      <th>2174</th>\n",
       "      <td>234.129795</td>\n",
       "      <td>242.0</td>\n",
       "    </tr>\n",
       "    <tr>\n",
       "      <th>2175</th>\n",
       "      <td>163.429059</td>\n",
       "      <td>169.0</td>\n",
       "    </tr>\n",
       "    <tr>\n",
       "      <th>2176</th>\n",
       "      <td>147.836465</td>\n",
       "      <td>130.0</td>\n",
       "    </tr>\n",
       "    <tr>\n",
       "      <th>2177</th>\n",
       "      <td>59.310439</td>\n",
       "      <td>89.0</td>\n",
       "    </tr>\n",
       "  </tbody>\n",
       "</table>\n",
       "<p>2178 rows × 2 columns</p>\n",
       "</div>"
      ],
      "text/plain": [
       "            pred   real\n",
       "0      14.960030   20.0\n",
       "1      20.594299   20.0\n",
       "2      56.849233   69.0\n",
       "3     142.758415  109.0\n",
       "4     290.620859  230.0\n",
       "5     387.671670  365.0\n",
       "6     428.860140  438.0\n",
       "7     527.756548  492.0\n",
       "8     489.081882  524.0\n",
       "9     492.781593  527.0\n",
       "10    421.971255  451.0\n",
       "11    538.244685  422.0\n",
       "12    516.610235  383.0\n",
       "13    314.460102  230.0\n",
       "14    363.217985  186.0\n",
       "15    321.273493  194.0\n",
       "16    216.370231  209.0\n",
       "17    185.049783  158.0\n",
       "18     77.165887   88.0\n",
       "19     45.190782   34.0\n",
       "20     20.208222   12.0\n",
       "21      9.121735    6.0\n",
       "22      5.318709    6.0\n",
       "23      8.337126   12.0\n",
       "24     33.614779   26.0\n",
       "25    166.579692  142.0\n",
       "26    274.000745  408.0\n",
       "27    735.496100  606.0\n",
       "28    228.100688  277.0\n",
       "29    196.018030  214.0\n",
       "...          ...    ...\n",
       "2148  440.107086  526.0\n",
       "2149  321.340156  354.0\n",
       "2150  206.703456  269.0\n",
       "2151  159.629145  169.0\n",
       "2152  113.543537  133.0\n",
       "2153   64.504737   82.0\n",
       "2154   23.062881   42.0\n",
       "2155   11.400735   16.0\n",
       "2156    6.787127    4.0\n",
       "2157    5.144885    6.0\n",
       "2158    4.270658    8.0\n",
       "2159   26.264262   32.0\n",
       "2160   98.669391  113.0\n",
       "2161  295.437363  364.0\n",
       "2162  511.289738  679.0\n",
       "2163  298.880419  318.0\n",
       "2164  136.607784  165.0\n",
       "2165  167.256721  201.0\n",
       "2166  188.622298  237.0\n",
       "2167  188.925383  214.0\n",
       "2168  160.791660  219.0\n",
       "2169  173.579584  238.0\n",
       "2170  248.033268  335.0\n",
       "2171  360.117653  563.0\n",
       "2172  414.007873  570.0\n",
       "2173  302.684231  337.0\n",
       "2174  234.129795  242.0\n",
       "2175  163.429059  169.0\n",
       "2176  147.836465  130.0\n",
       "2177   59.310439   89.0\n",
       "\n",
       "[2178 rows x 2 columns]"
      ]
     },
     "execution_count": 334,
     "metadata": {},
     "output_type": "execute_result"
    }
   ],
   "source": [
    "pd.DataFrame(list(zip(np.exp(valid_P_gb), np.exp(Y_validLog))), columns=['pred', 'real'])"
   ]
  },
  {
   "cell_type": "code",
   "execution_count": 335,
   "metadata": {},
   "outputs": [
    {
     "name": "stdout",
     "output_type": "stream",
     "text": [
      "RMSE score_Gradient Boosting Reg:  0.3603923928059495\n"
     ]
    }
   ],
   "source": [
    "# 기준 스코어인 0.551957 보다 높다 (rmsle는 0에 가까울 수록 정확함)\n",
    "print('RMSE score_Gradient Boosting Reg: ', \n",
    "      rmsle(valid_P_gb, Y_validLog, True))"
   ]
  },
  {
   "cell_type": "code",
   "execution_count": 336,
   "metadata": {},
   "outputs": [],
   "source": [
    "# Test Prediction 진행\n",
    "test_pred_gb = model_gb.predict(X_test)"
   ]
  },
  {
   "cell_type": "code",
   "execution_count": 337,
   "metadata": {},
   "outputs": [
    {
     "data": {
      "text/plain": [
       "array([2.55548081, 1.76024029, 1.75048247, ..., 4.85620323, 4.56404591,\n",
       "       3.86347001])"
      ]
     },
     "execution_count": 337,
     "metadata": {},
     "output_type": "execute_result"
    }
   ],
   "source": [
    "# 확인\n",
    "test_pred_gb"
   ]
  },
  {
   "cell_type": "code",
   "execution_count": 338,
   "metadata": {},
   "outputs": [
    {
     "data": {
      "text/html": [
       "<div>\n",
       "<style scoped>\n",
       "    .dataframe tbody tr th:only-of-type {\n",
       "        vertical-align: middle;\n",
       "    }\n",
       "\n",
       "    .dataframe tbody tr th {\n",
       "        vertical-align: top;\n",
       "    }\n",
       "\n",
       "    .dataframe thead th {\n",
       "        text-align: right;\n",
       "    }\n",
       "</style>\n",
       "<table border=\"1\" class=\"dataframe\">\n",
       "  <thead>\n",
       "    <tr style=\"text-align: right;\">\n",
       "      <th></th>\n",
       "      <th>datetime</th>\n",
       "      <th>count</th>\n",
       "    </tr>\n",
       "  </thead>\n",
       "  <tbody>\n",
       "    <tr>\n",
       "      <th>0</th>\n",
       "      <td>2011-01-20 00:00:00</td>\n",
       "      <td>16.016706</td>\n",
       "    </tr>\n",
       "    <tr>\n",
       "      <th>1</th>\n",
       "      <td>2011-01-20 01:00:00</td>\n",
       "      <td>7.219064</td>\n",
       "    </tr>\n",
       "    <tr>\n",
       "      <th>2</th>\n",
       "      <td>2011-01-20 02:00:00</td>\n",
       "      <td>5.146148</td>\n",
       "    </tr>\n",
       "    <tr>\n",
       "      <th>3</th>\n",
       "      <td>2011-01-20 03:00:00</td>\n",
       "      <td>4.472734</td>\n",
       "    </tr>\n",
       "    <tr>\n",
       "      <th>4</th>\n",
       "      <td>2011-01-20 04:00:00</td>\n",
       "      <td>3.311325</td>\n",
       "    </tr>\n",
       "  </tbody>\n",
       "</table>\n",
       "</div>"
      ],
      "text/plain": [
       "              datetime      count\n",
       "0  2011-01-20 00:00:00  16.016706\n",
       "1  2011-01-20 01:00:00   7.219064\n",
       "2  2011-01-20 02:00:00   5.146148\n",
       "3  2011-01-20 03:00:00   4.472734\n",
       "4  2011-01-20 04:00:00   3.311325"
      ]
     },
     "execution_count": 338,
     "metadata": {},
     "output_type": "execute_result"
    }
   ],
   "source": [
    "submission.head()"
   ]
  },
  {
   "cell_type": "code",
   "execution_count": 339,
   "metadata": {},
   "outputs": [],
   "source": [
    "# submission 제출 및 점수확인 (0.42660)\n",
    "submission['count'] = [max(0, x) for x in np.exp(test_pred_gb)]\n",
    "submission.to_csv('result/gradient_boosting_sub.csv', index=False)"
   ]
  },
  {
   "cell_type": "code",
   "execution_count": 340,
   "metadata": {},
   "outputs": [
    {
     "data": {
      "text/html": [
       "<div>\n",
       "<style scoped>\n",
       "    .dataframe tbody tr th:only-of-type {\n",
       "        vertical-align: middle;\n",
       "    }\n",
       "\n",
       "    .dataframe tbody tr th {\n",
       "        vertical-align: top;\n",
       "    }\n",
       "\n",
       "    .dataframe thead th {\n",
       "        text-align: right;\n",
       "    }\n",
       "</style>\n",
       "<table border=\"1\" class=\"dataframe\">\n",
       "  <thead>\n",
       "    <tr style=\"text-align: right;\">\n",
       "      <th></th>\n",
       "      <th>datetime</th>\n",
       "      <th>count</th>\n",
       "    </tr>\n",
       "  </thead>\n",
       "  <tbody>\n",
       "    <tr>\n",
       "      <th>0</th>\n",
       "      <td>2011-01-20 00:00:00</td>\n",
       "      <td>12.877490</td>\n",
       "    </tr>\n",
       "    <tr>\n",
       "      <th>1</th>\n",
       "      <td>2011-01-20 01:00:00</td>\n",
       "      <td>5.813834</td>\n",
       "    </tr>\n",
       "    <tr>\n",
       "      <th>2</th>\n",
       "      <td>2011-01-20 02:00:00</td>\n",
       "      <td>5.757380</td>\n",
       "    </tr>\n",
       "    <tr>\n",
       "      <th>3</th>\n",
       "      <td>2011-01-20 03:00:00</td>\n",
       "      <td>5.254559</td>\n",
       "    </tr>\n",
       "    <tr>\n",
       "      <th>4</th>\n",
       "      <td>2011-01-20 04:00:00</td>\n",
       "      <td>2.523694</td>\n",
       "    </tr>\n",
       "  </tbody>\n",
       "</table>\n",
       "</div>"
      ],
      "text/plain": [
       "              datetime      count\n",
       "0  2011-01-20 00:00:00  12.877490\n",
       "1  2011-01-20 01:00:00   5.813834\n",
       "2  2011-01-20 02:00:00   5.757380\n",
       "3  2011-01-20 03:00:00   5.254559\n",
       "4  2011-01-20 04:00:00   2.523694"
      ]
     },
     "execution_count": 340,
     "metadata": {},
     "output_type": "execute_result"
    }
   ],
   "source": [
    "submission.head()"
   ]
  },
  {
   "cell_type": "markdown",
   "metadata": {},
   "source": [
    "#### 시간이 오래걸려서 멈춘 GridSearch + GBR"
   ]
  },
  {
   "cell_type": "code",
   "execution_count": null,
   "metadata": {},
   "outputs": [],
   "source": [
    "# GridSearch on GBR 및 fit(train)\n",
    "model_gb = GradientBoostingRegressor()\n",
    "gb_param = {\"loss\":['ls', 'quantile'],\n",
    "    \"learning_rate\": [0.01, 0.1],\n",
    "    \"max_depth\": np.arange(3,8),\n",
    "    \"n_estimators\":[100, 1000, 4000]\n",
    "    }\n",
    "grid_gb = GridSearchCV(model_gb, gb_param, cv=3)\n",
    "grid_gb.fit(X_train, Y_trainLog)"
   ]
  },
  {
   "cell_type": "code",
   "execution_count": null,
   "metadata": {},
   "outputs": [],
   "source": [
    "# validation prediction\n",
    "valid_P_GSgb = grid_gb.predict(X_valid)"
   ]
  },
  {
   "cell_type": "markdown",
   "metadata": {},
   "source": [
    "#### RFReg"
   ]
  },
  {
   "cell_type": "code",
   "execution_count": 341,
   "metadata": {},
   "outputs": [],
   "source": [
    "# Random Forest Regressor 도 사용해본다. \n",
    "model_rf = RandomForestRegressor(max_depth=5, n_estimators=1000)\n",
    "model_rf.fit(X_train, Y_trainLog)\n",
    "valid_P_rf = model_rf.predict(X_valid)"
   ]
  },
  {
   "cell_type": "code",
   "execution_count": 342,
   "metadata": {},
   "outputs": [
    {
     "name": "stdout",
     "output_type": "stream",
     "text": [
      "RMSE score_Gradient Boosting Reg:  0.8736154396947907\n"
     ]
    }
   ],
   "source": [
    "# 기준 스코어인 0.551957 보다 낮다ㅠㅠ \n",
    "# RF는 실패한 모델. 아마도 Grid Searching을 통해 parameter를 최적화하면 훨씬 좋아질것\n",
    "print('RMSE score_Gradient Boosting Reg: ', \n",
    "      rmsle(valid_P_rf, Y_validLog, True))"
   ]
  },
  {
   "cell_type": "markdown",
   "metadata": {},
   "source": [
    "***\n",
    "\n",
    "## 결론\n",
    "- 2011.1월부터 2012.12월까지 1일부터 19일까지의 자전거대여 count 및 날씨 등의 자료를 활용하여 각각의 월마다 20~막일 까지의 count를 추측\n",
    "- EDA과정에서 datetime을 활용한 파생변수(Yr, Mth, Date, Day, hour 등)을 생성하여 count 상관관계를 확인한 결과 Yr, Mth, Day 등이 유의한 관계를 가진다. 또한 temp, humidity, windspeed 등 날씨 관련 변수들도 관련이 있으므로 포함하여 진행. season, holiday 등의 변수도 상당히 유의한 관계를 가지므로 포함하여 진행한다. 이 중 카테고리화할 수 있는 변수들 중 correlation이 상당히 높았던 것으로 분석된 경우 get_dummies를 활용하여 더미변수화한다.\n",
    "- 모델링시 rmsle스코어를 활용하였으며, linear regression을 기준으로 삼아 기타 모델을 비교하였다. Gradient Boosting Regressor이 가장 좋은 결과를 냈으며 GridSearching은 시간관계상 보류. Random Forest Regressor은 매우 낮은 결과를 내어 보류하였다."
   ]
  }
 ],
 "metadata": {
  "kernelspec": {
   "display_name": "Python 3",
   "language": "python",
   "name": "python3"
  },
  "language_info": {
   "codemirror_mode": {
    "name": "ipython",
    "version": 3
   },
   "file_extension": ".py",
   "mimetype": "text/x-python",
   "name": "python",
   "nbconvert_exporter": "python",
   "pygments_lexer": "ipython3",
   "version": "3.7.3"
  }
 },
 "nbformat": 4,
 "nbformat_minor": 2
}
