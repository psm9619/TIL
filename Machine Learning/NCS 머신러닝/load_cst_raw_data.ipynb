{
 "cells": [
  {
   "cell_type": "markdown",
   "metadata": {},
   "source": [
    "# 장애인콜시스템\n",
    "- [서울시 열린데이터 광장](https://data.seoul.go.kr/search/newSearch.jsp?query=%EC%9E%A5%EC%95%A0%EC%9D%B8%EC%BD%9C%ED%83%9D%EC%8B%9C)"
   ]
  },
  {
   "cell_type": "markdown",
   "metadata": {},
   "source": [
    "## STEP 01 : 장애인 콜시스템 데이터 수집"
   ]
  },
  {
   "cell_type": "code",
   "execution_count": 2,
   "metadata": {},
   "outputs": [],
   "source": [
    "import requests\n",
    "from bs4 import BeautifulSoup\n",
    "import pandas as pd\n",
    "from tqdm import tqdm_notebook\n",
    "import os"
   ]
  },
  {
   "cell_type": "code",
   "execution_count": 6,
   "metadata": {},
   "outputs": [],
   "source": [
    "file_path = r\"D:\\Workspace\\Python_alone\\pjt\""
   ]
  },
  {
   "cell_type": "code",
   "execution_count": 7,
   "metadata": {},
   "outputs": [
    {
     "data": {
      "application/vnd.jupyter.widget-view+json": {
       "model_id": "5817341a5baa4dc58a261da376312e6e",
       "version_major": 2,
       "version_minor": 0
      },
      "text/plain": [
       "HBox(children=(IntProgress(value=0, max=123), HTML(value='')))"
      ]
     },
     "metadata": {},
     "output_type": "display_data"
    },
    {
     "name": "stdout",
     "output_type": "stream",
     "text": [
      "\n"
     ]
    }
   ],
   "source": [
    "df = pd.DataFrame()\n",
    "for date in tqdm_notebook(GetDate('2017-05-01', '2017-08-31')): # 날짜 수정(각 월에 맞게) !!! \n",
    "    df = pd.concat([df, load_cst_data(date)], axis=0)\n",
    "    \n",
    "df.to_csv(file_path+'\\2017_2.csv', encoding='euc-kr', index=False) # 파일 이름 수정( 01~12 )!!! 파일 경로 수정!!! "
   ]
  },
  {
   "cell_type": "markdown",
   "metadata": {},
   "source": [
    "- file_path 경로 수정 필요"
   ]
  },
  {
   "cell_type": "markdown",
   "metadata": {},
   "source": [
    "- 파일명 : cst_19_0103 : call system data (장애인콜시스템) + 데이터연도 + 수집월"
   ]
  },
  {
   "cell_type": "code",
   "execution_count": 3,
   "metadata": {},
   "outputs": [],
   "source": [
    "def load_cst_data(date):\n",
    "    URL = f'http://openapi.seoul.go.kr:8088/676a7359436c696d33394451454277/xml/disabledCalltaxi/1/100/{date}'\n",
    "    res = requests.get(URL)\n",
    "    html = res.text\n",
    "    soup = BeautifulSoup(html, 'lxml')\n",
    "    \n",
    "    no = []\n",
    "    cartype = []\n",
    "    receipttime = []\n",
    "    settime = []\n",
    "    ridetime = []\n",
    "    startpos1 = []\n",
    "    startpos2 = []\n",
    "    endpos1 = []\n",
    "    endpos2 = []\n",
    "    \n",
    "    for items in soup.findAll('item'):\n",
    "        no.append(items.find('no').text)\n",
    "        cartype.append(items.find('cartype').text.replace(' ', ''))\n",
    "        receipttime.append(items.find('receipttime').text)\n",
    "        settime.append(items.find('settime').text)\n",
    "        ridetime.append(items.find('ridetime').text)\n",
    "        startpos1.append(items.find('startpos1').text)\n",
    "        startpos2.append(items.find('startpos2').text)\n",
    "        endpos1.append(items.find('endpos1').text)\n",
    "        endpos2.append(items.find('endpos2').text)\n",
    "        \n",
    "    dfs = pd.DataFrame({'car_no':no,\n",
    "                   'car_type':cartype,\n",
    "                   'exp_time':receipttime,\n",
    "                   'set_time':settime,\n",
    "                   'ride_time':ridetime,\n",
    "                   'dept_gu':startpos1,\n",
    "                   'dept_dong':startpos2,\n",
    "                   'dest_gu':endpos1,\n",
    "                   'dest_dong':endpos2})\n",
    "    \n",
    "    return dfs\n",
    "        \n",
    "\n",
    "def GetDate(start, end):\n",
    "    dateset = pd.date_range(start=start, end=end, freq='D')\n",
    "    dates = []\n",
    "    for date in dateset:\n",
    "        dates.append(str(date)[:10])\n",
    "    return dates"
   ]
  },
  {
   "cell_type": "markdown",
   "metadata": {},
   "source": [
    "### **월단위 파일 합치기**"
   ]
  },
  {
   "cell_type": "code",
   "execution_count": 26,
   "metadata": {},
   "outputs": [],
   "source": [
    "import os\n",
    "import pandas as pd \n",
    "\n",
    "rdfs = [] # 빈 리스트 생성 \n",
    "for file in os.listdir(file_path):\n",
    "    if file.startswith(\"19_cst\"): #시작이 \"19_cst\"로 시작하는 경우\n",
    "        rdfs.append(pd.read_csv(file_path+\"/\"+file, encoding='euc-kr', index_col=None)) # 각 리스트에 데이터프레임 저장 "
   ]
  },
  {
   "cell_type": "code",
   "execution_count": 27,
   "metadata": {},
   "outputs": [
    {
     "data": {
      "text/html": [
       "<div>\n",
       "<style scoped>\n",
       "    .dataframe tbody tr th:only-of-type {\n",
       "        vertical-align: middle;\n",
       "    }\n",
       "\n",
       "    .dataframe tbody tr th {\n",
       "        vertical-align: top;\n",
       "    }\n",
       "\n",
       "    .dataframe thead th {\n",
       "        text-align: right;\n",
       "    }\n",
       "</style>\n",
       "<table border=\"1\" class=\"dataframe\">\n",
       "  <thead>\n",
       "    <tr style=\"text-align: right;\">\n",
       "      <th></th>\n",
       "      <th>car_no</th>\n",
       "      <th>car_type</th>\n",
       "      <th>exp_time</th>\n",
       "      <th>set_time</th>\n",
       "      <th>ride_time</th>\n",
       "      <th>dept_gu</th>\n",
       "      <th>dept_dong</th>\n",
       "      <th>dest_gu</th>\n",
       "      <th>dest_dong</th>\n",
       "      <th>ride_exp</th>\n",
       "      <th>ride_set</th>\n",
       "      <th>set_exp</th>\n",
       "      <th>month</th>\n",
       "      <th>day</th>\n",
       "      <th>hour</th>\n",
       "      <th>weekday</th>\n",
       "    </tr>\n",
       "  </thead>\n",
       "  <tbody>\n",
       "    <tr>\n",
       "      <th>0</th>\n",
       "      <td>5815</td>\n",
       "      <td>중형승합</td>\n",
       "      <td>2019-01-01 00:02:00</td>\n",
       "      <td>2019-01-01 03:56:24</td>\n",
       "      <td>2019-01-01 04:15:34</td>\n",
       "      <td>종로구</td>\n",
       "      <td>삼청동</td>\n",
       "      <td>성북구</td>\n",
       "      <td>월곡1동</td>\n",
       "      <td>254</td>\n",
       "      <td>19</td>\n",
       "      <td>234</td>\n",
       "      <td>1</td>\n",
       "      <td>1</td>\n",
       "      <td>4</td>\n",
       "      <td>Tuesday</td>\n",
       "    </tr>\n",
       "    <tr>\n",
       "      <th>1</th>\n",
       "      <td>5815</td>\n",
       "      <td>중형승합</td>\n",
       "      <td>2019-01-01 00:13:00</td>\n",
       "      <td>2019-01-01 03:17:56</td>\n",
       "      <td>2019-01-01 03:36:11</td>\n",
       "      <td>성북구</td>\n",
       "      <td>보문동</td>\n",
       "      <td>강북구</td>\n",
       "      <td>삼각산동</td>\n",
       "      <td>203</td>\n",
       "      <td>18</td>\n",
       "      <td>185</td>\n",
       "      <td>1</td>\n",
       "      <td>1</td>\n",
       "      <td>3</td>\n",
       "      <td>Tuesday</td>\n",
       "    </tr>\n",
       "    <tr>\n",
       "      <th>2</th>\n",
       "      <td>1313</td>\n",
       "      <td>중형승합</td>\n",
       "      <td>2019-01-01 00:15:00</td>\n",
       "      <td>2019-01-01 03:03:30</td>\n",
       "      <td>2019-01-01 03:23:48</td>\n",
       "      <td>강북구</td>\n",
       "      <td>인수동</td>\n",
       "      <td>노원구</td>\n",
       "      <td>하계2동</td>\n",
       "      <td>189</td>\n",
       "      <td>20</td>\n",
       "      <td>168</td>\n",
       "      <td>1</td>\n",
       "      <td>1</td>\n",
       "      <td>3</td>\n",
       "      <td>Tuesday</td>\n",
       "    </tr>\n",
       "    <tr>\n",
       "      <th>3</th>\n",
       "      <td>5764</td>\n",
       "      <td>승합</td>\n",
       "      <td>2019-01-01 00:17:00</td>\n",
       "      <td>2019-01-01 03:55:50</td>\n",
       "      <td>2019-01-01 04:16:51</td>\n",
       "      <td>중구</td>\n",
       "      <td>회현동</td>\n",
       "      <td>부천시소사구</td>\n",
       "      <td>송내1동</td>\n",
       "      <td>240</td>\n",
       "      <td>21</td>\n",
       "      <td>219</td>\n",
       "      <td>1</td>\n",
       "      <td>1</td>\n",
       "      <td>4</td>\n",
       "      <td>Tuesday</td>\n",
       "    </tr>\n",
       "    <tr>\n",
       "      <th>4</th>\n",
       "      <td>1601</td>\n",
       "      <td>중형승합</td>\n",
       "      <td>2019-01-01 00:21:00</td>\n",
       "      <td>2019-01-01 01:36:00</td>\n",
       "      <td>2019-01-01 02:13:11</td>\n",
       "      <td>은평구</td>\n",
       "      <td>구산동</td>\n",
       "      <td>은평구</td>\n",
       "      <td>역촌동</td>\n",
       "      <td>112</td>\n",
       "      <td>37</td>\n",
       "      <td>75</td>\n",
       "      <td>1</td>\n",
       "      <td>1</td>\n",
       "      <td>2</td>\n",
       "      <td>Tuesday</td>\n",
       "    </tr>\n",
       "  </tbody>\n",
       "</table>\n",
       "</div>"
      ],
      "text/plain": [
       "   car_no car_type             exp_time             set_time  \\\n",
       "0    5815     중형승합  2019-01-01 00:02:00  2019-01-01 03:56:24   \n",
       "1    5815     중형승합  2019-01-01 00:13:00  2019-01-01 03:17:56   \n",
       "2    1313     중형승합  2019-01-01 00:15:00  2019-01-01 03:03:30   \n",
       "3    5764       승합  2019-01-01 00:17:00  2019-01-01 03:55:50   \n",
       "4    1601     중형승합  2019-01-01 00:21:00  2019-01-01 01:36:00   \n",
       "\n",
       "             ride_time dept_gu dept_dong dest_gu dest_dong  ride_exp  \\\n",
       "0  2019-01-01 04:15:34     종로구       삼청동     성북구      월곡1동       254   \n",
       "1  2019-01-01 03:36:11     성북구       보문동     강북구      삼각산동       203   \n",
       "2  2019-01-01 03:23:48     강북구       인수동     노원구      하계2동       189   \n",
       "3  2019-01-01 04:16:51      중구       회현동  부천시소사구      송내1동       240   \n",
       "4  2019-01-01 02:13:11     은평구       구산동     은평구       역촌동       112   \n",
       "\n",
       "   ride_set  set_exp  month  day  hour  weekday  \n",
       "0        19      234      1    1     4  Tuesday  \n",
       "1        18      185      1    1     3  Tuesday  \n",
       "2        20      168      1    1     3  Tuesday  \n",
       "3        21      219      1    1     4  Tuesday  \n",
       "4        37       75      1    1     2  Tuesday  "
      ]
     },
     "execution_count": 27,
     "metadata": {},
     "output_type": "execute_result"
    }
   ],
   "source": [
    "rdfs[1].head()"
   ]
  },
  {
   "cell_type": "code",
   "execution_count": 28,
   "metadata": {},
   "outputs": [],
   "source": [
    "dfs = pd.DataFrame() # 빈 데이터프레임 생성 \n",
    "for rdf in rdfs:\n",
    "    dfs = pd.concat([dfs, rdf], axis=0) # 리스트에 있는 데이터를 하나씩 추가 "
   ]
  },
  {
   "cell_type": "code",
   "execution_count": 29,
   "metadata": {},
   "outputs": [
    {
     "data": {
      "text/plain": [
       "9240"
      ]
     },
     "execution_count": 29,
     "metadata": {},
     "output_type": "execute_result"
    }
   ],
   "source": [
    "len(dfs)"
   ]
  },
  {
   "cell_type": "code",
   "execution_count": 33,
   "metadata": {},
   "outputs": [],
   "source": [
    "dfs.to_csv(file_path+'/cst_19_raw.csv', index=None, encoding='euc-kr') # 연간데이터 파일 저장 "
   ]
  }
 ],
 "metadata": {
  "kernelspec": {
   "display_name": "Python 3",
   "language": "python",
   "name": "python3"
  },
  "language_info": {
   "codemirror_mode": {
    "name": "ipython",
    "version": 3
   },
   "file_extension": ".py",
   "mimetype": "text/x-python",
   "name": "python",
   "nbconvert_exporter": "python",
   "pygments_lexer": "ipython3",
   "version": "3.6.8"
  }
 },
 "nbformat": 4,
 "nbformat_minor": 2
}
