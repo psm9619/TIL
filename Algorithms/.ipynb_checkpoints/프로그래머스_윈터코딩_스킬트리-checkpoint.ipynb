{
 "cells": [
  {
   "cell_type": "code",
   "execution_count": 138,
   "metadata": {
    "scrolled": true
   },
   "outputs": [],
   "source": [
    "def solution(skill, skill_trees):\n",
    "    answer = 0\n",
    "    s = list(skill)\n",
    "    for st in skill_trees:\n",
    "        tree = list(st)\n",
    "        pos_ss = [''.join((lambda x: s[0:x])(x)) for x in range(0,len(s)+1)]\n",
    "        if (''.join([i for i in tree if i in s]) in pos_ss):\n",
    "            answer +=1\n",
    "    return answer"
   ]
  },
  {
   "cell_type": "code",
   "execution_count": 139,
   "metadata": {
    "scrolled": true
   },
   "outputs": [
    {
     "data": {
      "text/plain": [
       "2"
      ]
     },
     "execution_count": 139,
     "metadata": {},
     "output_type": "execute_result"
    }
   ],
   "source": [
    "solution(skill, test)"
   ]
  },
  {
   "cell_type": "markdown",
   "metadata": {},
   "source": [
    "### 풀이과정\n",
    "#### 1. skill과 각각의 skill-tree를 letter로 바꾼다 \n",
    "* s = list(skill, tree = list(skill_trees[i])\n",
    "\n",
    "#### 2. for loop\n",
    "* pos_ss(possible set of skill)\n",
    "<br> - 스킬 letter의 모든 조합. \n",
    "<br> - range(0,~) -> 시작 x값을 0으로 하여 '' 생성. tree, 즉 현재 확인 중인 스킬트리에서 뽑아낸 필수스킬이 아무것도 없을 때 True를 리턴하기 위함.\n",
    "* if 구문\n",
    "<br> - [i for i in tree if i in s] : tree와 s(=skill의 letter리스트)비교, True인 letter만 반환. 이 때 기존 순서가 지켜지므로 order조건 충족.\n",
    "<br> - ' '.join(...) : tree에서 skill에 해당하는 경우만 뽑아낸 알파벳들을 string으로 변환.\n",
    "<br> - (a in [...]) : a가 [...] 중에 포함되어있으면 True 리턴, answer에 1 증가"
   ]
  }
 ],
 "metadata": {
  "kernelspec": {
   "display_name": "Python 3",
   "language": "python",
   "name": "python3"
  },
  "language_info": {
   "codemirror_mode": {
    "name": "ipython",
    "version": 3
   },
   "file_extension": ".py",
   "mimetype": "text/x-python",
   "name": "python",
   "nbconvert_exporter": "python",
   "pygments_lexer": "ipython3",
   "version": "3.7.4"
  }
 },
 "nbformat": 4,
 "nbformat_minor": 2
}
